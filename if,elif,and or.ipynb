{
 "cells": [
  {
   "cell_type": "code",
   "execution_count": 6,
   "id": "0d3bf401",
   "metadata": {},
   "outputs": [
    {
     "name": "stdout",
     "output_type": "stream",
     "text": [
      "200\n",
      " i can buy anything\n",
      "buy jacket\n"
     ]
    }
   ],
   "source": [
    "price = int(input())\n",
    "if price < 500 :\n",
    "    print (\" i can buy anything\")\n",
    "    if price < 400 :\n",
    "        print (\"buy jacket\")\n",
    "    elif price < 300 :\n",
    "        print (\"buy shirt\")\n",
    "    else :\n",
    "        print (\"can not buy anything\")\n",
    "else :\n",
    "    print (\"can not buy with this price tag\")"
   ]
  },
  {
   "cell_type": "code",
   "execution_count": 10,
   "id": "8a011a7a",
   "metadata": {},
   "outputs": [
    {
     "name": "stdout",
     "output_type": "stream",
     "text": [
      "600\n",
      "can not buy with this price tag\n",
      "lets try something else\n"
     ]
    }
   ],
   "source": [
    "price = int(input())\n",
    "if price < 500 :\n",
    "    print (\" i can buy anything\")\n",
    "    if price < 400 :\n",
    "        print (\"buy jacket\")\n",
    "    elif price < 300 :\n",
    "        print (\"buy shirt\")\n",
    "    else :\n",
    "        print (\"can not buy anything\")\n",
    "else :\n",
    "    print (\"can not buy with this price tag\")\n",
    "    if price > 500:\n",
    "        print (\"lets try something else\")\n",
    "        \n",
    "    "
   ]
  },
  {
   "cell_type": "code",
   "execution_count": 35,
   "id": "12ab7317",
   "metadata": {},
   "outputs": [
    {
     "name": "stdout",
     "output_type": "stream",
     "text": [
      "300\n",
      "Not GRE\n",
      "TOEFL\n",
      "try something else\n"
     ]
    }
   ],
   "source": [
    "marks = int(input()) \n",
    "if marks < 600 :\n",
    "        print (\"Not GRE\")\n",
    "        if marks < 500 :\n",
    "            print (\"TOEFL\")\n",
    "            if marks <400 :\n",
    "                print (\"try something else\")\n",
    "            else :  \n",
    "                print(\"u got toefl\")\n",
    "else :\n",
    "    print (\"congrats\")\n",
    " \n",
    "            \n"
   ]
  },
  {
   "cell_type": "code",
   "execution_count": 39,
   "id": "4527c640",
   "metadata": {},
   "outputs": [
    {
     "name": "stdout",
     "output_type": "stream",
     "text": [
      "enter floating point number0\n",
      "entered value is 0\n"
     ]
    }
   ],
   "source": [
    "val = float(input(\"enter floating point number\"))\n",
    "if val >= 0 :\n",
    "    if val == 0 :\n",
    "        print (\"entered value is 0\")\n",
    "    else :\n",
    "        print (\"entered value is positive\")\n",
    "else :\n",
    "    print (\"entered number is negative number\")"
   ]
  },
  {
   "cell_type": "code",
   "execution_count": 49,
   "id": "dc9e41b5",
   "metadata": {},
   "outputs": [],
   "source": [
    "a  = 10\n",
    "if a<10 or a>10 :\n",
    "    print(\"try to do somthing\")"
   ]
  },
  {
   "cell_type": "code",
   "execution_count": 51,
   "id": "80c450d5",
   "metadata": {},
   "outputs": [],
   "source": [
    "a  = 10\n",
    "if a<10 and a==10 :\n",
    "    print(\"try to do somthing\")"
   ]
  },
  {
   "cell_type": "code",
   "execution_count": 55,
   "id": "dcb9efb4",
   "metadata": {},
   "outputs": [
    {
     "name": "stdout",
     "output_type": "stream",
     "text": [
      "this is sudh\n"
     ]
    }
   ],
   "source": [
    "a =\"sudh\"\n",
    "if a==\"sudh\" and a==\"sudh\" :\n",
    "    print (\"this is sudh\")"
   ]
  },
  {
   "cell_type": "code",
   "execution_count": 60,
   "id": "3b29ab60",
   "metadata": {},
   "outputs": [
    {
     "name": "stdout",
     "output_type": "stream",
     "text": [
      "try to do something\n"
     ]
    }
   ],
   "source": [
    "a = 10\n",
    "b = 11\n",
    "c = 12\n",
    "d = 13\n",
    "if a==9 or b==11 and c ==12 and d==13 :\n",
    "    print (\"try to do something\")"
   ]
  },
  {
   "cell_type": "code",
   "execution_count": 71,
   "id": "e23ae433",
   "metadata": {},
   "outputs": [],
   "source": [
    "d = {\"key1\" : \"value\", \"key2\" : \"sudh\", \"key3\" : \"ineuron\"}"
   ]
  },
  {
   "cell_type": "code",
   "execution_count": 77,
   "id": "934b0ec8",
   "metadata": {},
   "outputs": [
    {
     "name": "stdout",
     "output_type": "stream",
     "text": [
      "all the values are not vatified\n"
     ]
    }
   ],
   "source": [
    "if d[\"key1\"] > \"value\" and d[\"key2\"]==\"sudh\" and d[\"key3\"]==\"ineuron\":\n",
    "    print (\"all the values aree varified\")\n",
    "    print (d.values())\n",
    "else :\n",
    "    print(\"all the values are not vatified\")\n",
    "    "
   ]
  },
  {
   "cell_type": "code",
   "execution_count": 73,
   "id": "3e5e5924",
   "metadata": {},
   "outputs": [
    {
     "data": {
      "text/plain": [
       "{'key1': 'value', 'key2': 'sudh', 'key3': 'ineuron'}"
      ]
     },
     "execution_count": 73,
     "metadata": {},
     "output_type": "execute_result"
    }
   ],
   "source": [
    "d"
   ]
  },
  {
   "cell_type": "code",
   "execution_count": 96,
   "id": "a8c71518",
   "metadata": {},
   "outputs": [],
   "source": [
    "l=[1,2,3,4,\"sudh\",34.05]"
   ]
  },
  {
   "cell_type": "code",
   "execution_count": 97,
   "id": "c5d12acd",
   "metadata": {},
   "outputs": [
    {
     "data": {
      "text/plain": [
       "1"
      ]
     },
     "execution_count": 97,
     "metadata": {},
     "output_type": "execute_result"
    }
   ],
   "source": [
    "l[0]"
   ]
  },
  {
   "cell_type": "code",
   "execution_count": 98,
   "id": "49595de5",
   "metadata": {},
   "outputs": [
    {
     "data": {
      "text/plain": [
       "[1, 2, 3, 4, 'sudh']"
      ]
     },
     "execution_count": 98,
     "metadata": {},
     "output_type": "execute_result"
    }
   ],
   "source": [
    "l[0:5]"
   ]
  },
  {
   "cell_type": "code",
   "execution_count": 102,
   "id": "501c0492",
   "metadata": {},
   "outputs": [
    {
     "name": "stdout",
     "output_type": "stream",
     "text": [
      "2\n",
      "3\n",
      "4\n",
      "5\n",
      "sudh1\n",
      "35.05\n"
     ]
    }
   ],
   "source": [
    "for i in l:\n",
    "    if type(i)== int or type(i) == float :\n",
    "        print(i+1)\n",
    "    elif type(i) == str:\n",
    "        print (i+str(1))"
   ]
  },
  {
   "cell_type": "code",
   "execution_count": 89,
   "id": "04a12268",
   "metadata": {},
   "outputs": [
    {
     "data": {
      "text/plain": [
       "[1, 2, 3, 4, 'sudh', 34.05]"
      ]
     },
     "execution_count": 89,
     "metadata": {},
     "output_type": "execute_result"
    }
   ],
   "source": [
    "l"
   ]
  },
  {
   "cell_type": "code",
   "execution_count": 103,
   "id": "e8b58e48",
   "metadata": {},
   "outputs": [],
   "source": [
    "l2=[1,12,3,3.4,.65,5.01]"
   ]
  },
  {
   "cell_type": "code",
   "execution_count": 104,
   "id": "c1d3128f",
   "metadata": {},
   "outputs": [
    {
     "data": {
      "text/plain": [
       "[1, 12, 3, 3.4, 0.65, 5.01]"
      ]
     },
     "execution_count": 104,
     "metadata": {},
     "output_type": "execute_result"
    }
   ],
   "source": [
    "l2"
   ]
  },
  {
   "cell_type": "code",
   "execution_count": 108,
   "id": "a3f0e222",
   "metadata": {},
   "outputs": [
    {
     "name": "stdout",
     "output_type": "stream",
     "text": [
      "2\n",
      "13\n",
      "4\n",
      "4.4\n",
      "1.65\n",
      "6.01\n"
     ]
    }
   ],
   "source": [
    "for k in l2:\n",
    "    print (k+1)"
   ]
  },
  {
   "cell_type": "code",
   "execution_count": 109,
   "id": "a3650bb1",
   "metadata": {},
   "outputs": [
    {
     "data": {
      "text/plain": [
       "[1, 2, 3, 4, 'sudh', 34.05]"
      ]
     },
     "execution_count": 109,
     "metadata": {},
     "output_type": "execute_result"
    }
   ],
   "source": [
    "l"
   ]
  },
  {
   "cell_type": "code",
   "execution_count": 116,
   "id": "0f5ae84f",
   "metadata": {},
   "outputs": [],
   "source": [
    "l1 = []\n",
    "for i in l :\n",
    "    if type(i) == int:\n",
    "        l1.append(i)"
   ]
  },
  {
   "cell_type": "code",
   "execution_count": null,
   "id": "11673086",
   "metadata": {},
   "outputs": [],
   "source": []
  },
  {
   "cell_type": "code",
   "execution_count": null,
   "id": "ec626557",
   "metadata": {},
   "outputs": [],
   "source": []
  }
 ],
 "metadata": {
  "kernelspec": {
   "display_name": "Python 3 (ipykernel)",
   "language": "python",
   "name": "python3"
  },
  "language_info": {
   "codemirror_mode": {
    "name": "ipython",
    "version": 3
   },
   "file_extension": ".py",
   "mimetype": "text/x-python",
   "name": "python",
   "nbconvert_exporter": "python",
   "pygments_lexer": "ipython3",
   "version": "3.9.12"
  }
 },
 "nbformat": 4,
 "nbformat_minor": 5
}
