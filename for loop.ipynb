{
 "cells": [
  {
   "cell_type": "code",
   "execution_count": 18,
   "id": "a0befbac",
   "metadata": {},
   "outputs": [],
   "source": [
    "l = [1,2,3,4,\"sudh\",\"kumar\",45.02]"
   ]
  },
  {
   "cell_type": "code",
   "execution_count": 22,
   "id": "4cf1edac",
   "metadata": {},
   "outputs": [
    {
     "name": "stdout",
     "output_type": "stream",
     "text": [
      "1\n",
      "2\n",
      "3\n",
      "4\n",
      "sudh\n",
      "kumar\n",
      "45.02\n"
     ]
    }
   ],
   "source": [
    "for i in l:\n",
    "    print (i)"
   ]
  },
  {
   "cell_type": "code",
   "execution_count": 23,
   "id": "9c900ba9",
   "metadata": {},
   "outputs": [],
   "source": [
    "for i in l:\n",
    "    pass"
   ]
  },
  {
   "cell_type": "code",
   "execution_count": 24,
   "id": "227567d2",
   "metadata": {},
   "outputs": [],
   "source": [
    "s=\"sudh\""
   ]
  },
  {
   "cell_type": "code",
   "execution_count": 25,
   "id": "a44d4462",
   "metadata": {},
   "outputs": [
    {
     "name": "stdout",
     "output_type": "stream",
     "text": [
      "s\n",
      "u\n",
      "d\n",
      "h\n"
     ]
    }
   ],
   "source": [
    "for i in s:\n",
    "    print(i)"
   ]
  },
  {
   "cell_type": "code",
   "execution_count": 26,
   "id": "9bdd1a9b",
   "metadata": {},
   "outputs": [
    {
     "name": "stdout",
     "output_type": "stream",
     "text": [
      "1\n",
      "2\n",
      "3\n",
      "4\n",
      "sudh\n",
      "kumar\n",
      "45.02\n",
      "if for loop is going\n"
     ]
    }
   ],
   "source": [
    "for i in l:\n",
    "    print(i)\n",
    "else :\n",
    "    print (\"if for loop is going\")"
   ]
  },
  {
   "cell_type": "code",
   "execution_count": 27,
   "id": "ec8194bf",
   "metadata": {},
   "outputs": [
    {
     "data": {
      "text/plain": [
       "[1, 2, 3, 4, 'sudh', 'kumar', 45.02]"
      ]
     },
     "execution_count": 27,
     "metadata": {},
     "output_type": "execute_result"
    }
   ],
   "source": [
    "l"
   ]
  },
  {
   "cell_type": "code",
   "execution_count": 34,
   "id": "b708a06e",
   "metadata": {},
   "outputs": [
    {
     "name": "stdout",
     "output_type": "stream",
     "text": [
      "1\n",
      "2\n",
      "3\n"
     ]
    }
   ],
   "source": [
    "for i in l:\n",
    "    if i==4:\n",
    "        break\n",
    "    print(i)\n",
    "else :\n",
    "    print (\"if for loop is going\")\n",
    "    "
   ]
  },
  {
   "cell_type": "code",
   "execution_count": 36,
   "id": "348fa629",
   "metadata": {},
   "outputs": [
    {
     "name": "stdout",
     "output_type": "stream",
     "text": [
      "s\n",
      "u\n",
      "d\n",
      "h\n",
      "a\n",
      "n\n",
      "s\n",
      "h\n",
      "u\n",
      "print string sudhanshu\n"
     ]
    }
   ],
   "source": [
    "s=\"sudhanshu\"\n",
    "for i in s:\n",
    "    if i==\"z\":\n",
    "        break\n",
    "    print(i)\n",
    "else:\n",
    "    print('print string',s)\n"
   ]
  },
  {
   "cell_type": "code",
   "execution_count": 44,
   "id": "49898c2c",
   "metadata": {},
   "outputs": [
    {
     "name": "stdout",
     "output_type": "stream",
     "text": [
      "1\n",
      "2\n",
      "3\n",
      "sudh\n",
      "77.02\n"
     ]
    }
   ],
   "source": [
    "t=(1,2,3,\"sudh\",77.02)\n",
    "for i in t:\n",
    "    print(i)"
   ]
  },
  {
   "cell_type": "code",
   "execution_count": 47,
   "id": "27a27c14",
   "metadata": {},
   "outputs": [],
   "source": [
    "b={1,2,3,5,6,8,8,8,89,9,9,\"sudh\"}"
   ]
  },
  {
   "cell_type": "code",
   "execution_count": 48,
   "id": "29342822",
   "metadata": {},
   "outputs": [
    {
     "data": {
      "text/plain": [
       "{1, 2, 3, 5, 6, 8, 89, 9, 'sudh'}"
      ]
     },
     "execution_count": 48,
     "metadata": {},
     "output_type": "execute_result"
    }
   ],
   "source": [
    "b"
   ]
  },
  {
   "cell_type": "code",
   "execution_count": 49,
   "id": "28588eaa",
   "metadata": {},
   "outputs": [
    {
     "name": "stdout",
     "output_type": "stream",
     "text": [
      "1\n",
      "2\n",
      "3\n",
      "sudh\n",
      "5\n",
      "6\n",
      "8\n",
      "9\n",
      "89\n"
     ]
    }
   ],
   "source": [
    "for i in b:\n",
    "    print(i)"
   ]
  },
  {
   "cell_type": "code",
   "execution_count": 50,
   "id": "6cca1fda",
   "metadata": {},
   "outputs": [],
   "source": [
    "d={\"key1\":9826, \"contact\":5699, \"instute\":\"ineuron\"}"
   ]
  },
  {
   "cell_type": "code",
   "execution_count": 51,
   "id": "f20a1297",
   "metadata": {},
   "outputs": [
    {
     "data": {
      "text/plain": [
       "{'key1': 9826, 'contact': 5699, 'instute': 'ineuron'}"
      ]
     },
     "execution_count": 51,
     "metadata": {},
     "output_type": "execute_result"
    }
   ],
   "source": [
    "d"
   ]
  },
  {
   "cell_type": "code",
   "execution_count": 57,
   "id": "1d07a8ae",
   "metadata": {},
   "outputs": [
    {
     "name": "stdout",
     "output_type": "stream",
     "text": [
      "key1\n",
      "contact\n",
      "instute\n"
     ]
    }
   ],
   "source": [
    "for i in d:\n",
    "    print(i)"
   ]
  },
  {
   "cell_type": "code",
   "execution_count": 62,
   "id": "90dc3b44",
   "metadata": {},
   "outputs": [
    {
     "name": "stdout",
     "output_type": "stream",
     "text": [
      "9826\n",
      "5699\n",
      "ineuron\n"
     ]
    }
   ],
   "source": [
    "for i in d:\n",
    "    print(d[i])"
   ]
  },
  {
   "cell_type": "code",
   "execution_count": 60,
   "id": "78c45c06",
   "metadata": {},
   "outputs": [
    {
     "name": "stdout",
     "output_type": "stream",
     "text": [
      "key1 = 9826\n",
      "contact = 5699\n",
      "instute = ineuron\n"
     ]
    }
   ],
   "source": [
    "for i in d:\n",
    "    print(i,'=',d[i])"
   ]
  },
  {
   "cell_type": "code",
   "execution_count": 63,
   "id": "4bb6f308",
   "metadata": {},
   "outputs": [
    {
     "data": {
      "text/plain": [
       "range(0, 9)"
      ]
     },
     "execution_count": 63,
     "metadata": {},
     "output_type": "execute_result"
    }
   ],
   "source": [
    "range(9)"
   ]
  },
  {
   "cell_type": "code",
   "execution_count": 65,
   "id": "21ba6cbc",
   "metadata": {},
   "outputs": [
    {
     "data": {
      "text/plain": [
       "[0, 1, 2, 3, 4, 5, 6, 7, 8]"
      ]
     },
     "execution_count": 65,
     "metadata": {},
     "output_type": "execute_result"
    }
   ],
   "source": [
    "list(range(9))"
   ]
  },
  {
   "cell_type": "code",
   "execution_count": 67,
   "id": "e7b9c8d1",
   "metadata": {},
   "outputs": [
    {
     "name": "stdout",
     "output_type": "stream",
     "text": [
      "0\n",
      "1\n",
      "2\n",
      "3\n",
      "4\n",
      "5\n",
      "6\n",
      "7\n",
      "8\n"
     ]
    }
   ],
   "source": [
    "for i in range(9):\n",
    "    print(i)"
   ]
  },
  {
   "cell_type": "code",
   "execution_count": 71,
   "id": "43b54793",
   "metadata": {},
   "outputs": [
    {
     "data": {
      "text/plain": [
       "[0, 1, 2, 3, 4, 5, 6, 7, 8]"
      ]
     },
     "execution_count": 71,
     "metadata": {},
     "output_type": "execute_result"
    }
   ],
   "source": [
    "list (range(0,9))"
   ]
  },
  {
   "cell_type": "code",
   "execution_count": 77,
   "id": "2eadb8f9",
   "metadata": {},
   "outputs": [
    {
     "data": {
      "text/plain": [
       "[9, 8, 7, 6, 5, 4, 3, 2, 1]"
      ]
     },
     "execution_count": 77,
     "metadata": {},
     "output_type": "execute_result"
    }
   ],
   "source": [
    "list (range(9,0,-1))"
   ]
  },
  {
   "cell_type": "code",
   "execution_count": 87,
   "id": "62028bfd",
   "metadata": {},
   "outputs": [
    {
     "name": "stdout",
     "output_type": "stream",
     "text": [
      "sudh  \n",
      "\n",
      "sudh  sudh  \n",
      "\n",
      "sudh  sudh  sudh  \n",
      "\n",
      "sudh  sudh  sudh  sudh  \n",
      "\n",
      "sudh  sudh  sudh  sudh  sudh  \n",
      "\n"
     ]
    }
   ],
   "source": [
    "\n",
    "n = 5\n",
    "for i in range(5):\n",
    "    for j in range(0, i+1) :\n",
    "        print  ( \"sudh\" , end = \"  \")\n",
    "    print (\"\\n\")"
   ]
  },
  {
   "cell_type": "code",
   "execution_count": 99,
   "id": "fb4bc520",
   "metadata": {},
   "outputs": [
    {
     "name": "stdout",
     "output_type": "stream",
     "text": [
      "sudh  \n",
      "\n",
      "sudh  sudh  \n",
      "\n",
      "sudh  sudh  sudh  \n",
      "\n"
     ]
    }
   ],
   "source": [
    "n = 3\n",
    "for i in range(3):\n",
    "    for j in range(0, i+1) :\n",
    "        print  ( \"sudh\" , end = \"  \")\n",
    "    print (\"\\n\")"
   ]
  },
  {
   "cell_type": "code",
   "execution_count": 112,
   "id": "73772ba2",
   "metadata": {},
   "outputs": [],
   "source": [
    "t= (3,3,66,4,8,5,6,95,2,)"
   ]
  },
  {
   "cell_type": "code",
   "execution_count": 128,
   "id": "9abe5a6d",
   "metadata": {},
   "outputs": [
    {
     "name": "stdout",
     "output_type": "stream",
     "text": [
      "0 3\n",
      "1 3\n",
      "2 66\n",
      "3 4\n",
      "4 8\n",
      "5 5\n",
      "6 6\n",
      "7 95\n",
      "8 2\n"
     ]
    }
   ],
   "source": [
    "for i in range(len(t)):\n",
    "          print(i, t[i])"
   ]
  },
  {
   "cell_type": "code",
   "execution_count": 129,
   "id": "260b7c40",
   "metadata": {},
   "outputs": [],
   "source": [
    "s='ineuron'"
   ]
  },
  {
   "cell_type": "code",
   "execution_count": 145,
   "id": "c9d2566d",
   "metadata": {},
   "outputs": [
    {
     "name": "stdout",
     "output_type": "stream",
     "text": [
      "0 i\n",
      "1 n\n",
      "2 e\n",
      "3 u\n",
      "4 r\n",
      "5 o\n",
      "6 n\n"
     ]
    }
   ],
   "source": [
    "for i in range(len(s)):\n",
    "    print (i,s[i])"
   ]
  },
  {
   "cell_type": "code",
   "execution_count": 149,
   "id": "c5b1a868",
   "metadata": {},
   "outputs": [
    {
     "data": {
      "text/plain": [
       "'ineuron'"
      ]
     },
     "execution_count": 149,
     "metadata": {},
     "output_type": "execute_result"
    }
   ],
   "source": [
    "s\n",
    "    "
   ]
  },
  {
   "cell_type": "code",
   "execution_count": 164,
   "id": "0a902b1f",
   "metadata": {},
   "outputs": [
    {
     "name": "stdout",
     "output_type": "stream",
     "text": [
      "6 n\n",
      "5 o\n",
      "4 r\n",
      "3 u\n",
      "2 e\n",
      "1 n\n",
      "0 i\n"
     ]
    }
   ],
   "source": [
    "for i in range(len(s)-1,-1,-1):\n",
    "    print (i,s[i])"
   ]
  },
  {
   "cell_type": "code",
   "execution_count": 165,
   "id": "633173ec",
   "metadata": {},
   "outputs": [
    {
     "data": {
      "text/plain": [
       "{'key1': 9826, 'contact': 5699, 'instute': 'ineuron'}"
      ]
     },
     "execution_count": 165,
     "metadata": {},
     "output_type": "execute_result"
    }
   ],
   "source": [
    "d"
   ]
  },
  {
   "cell_type": "code",
   "execution_count": 168,
   "id": "5f228ada",
   "metadata": {},
   "outputs": [
    {
     "name": "stdout",
     "output_type": "stream",
     "text": [
      "('key1', 9826)\n",
      "('contact', 5699)\n",
      "('instute', 'ineuron')\n"
     ]
    }
   ],
   "source": [
    "for i in d.items():\n",
    "    print(i)"
   ]
  },
  {
   "cell_type": "code",
   "execution_count": 173,
   "id": "79e5c4e3",
   "metadata": {},
   "outputs": [
    {
     "name": "stdout",
     "output_type": "stream",
     "text": [
      "('key1', 9826) type['key1', 9826]\n",
      "('contact', 5699) type['contact', 5699]\n",
      "('instute', 'ineuron') type['instute', 'ineuron']\n"
     ]
    }
   ],
   "source": [
    "for i in d.items():\n",
    "    print(i, type [i])"
   ]
  },
  {
   "cell_type": "code",
   "execution_count": 176,
   "id": "a60f79d6",
   "metadata": {},
   "outputs": [
    {
     "name": "stdout",
     "output_type": "stream",
     "text": [
      "('key1', 9826) <class 'tuple'> <class 'int'>\n",
      "('contact', 5699) <class 'tuple'> <class 'int'>\n",
      "('instute', 'ineuron') <class 'tuple'> <class 'str'>\n"
     ]
    }
   ],
   "source": [
    "for i in d.items():\n",
    "    print(i, type (i), type (i[1]))"
   ]
  },
  {
   "cell_type": "code",
   "execution_count": 209,
   "id": "8aebeac3",
   "metadata": {},
   "outputs": [],
   "source": [
    "l=[\"sumar\" , \"sudh\", 98659, True, 5688, 773,]\n",
    "l2+[]\n",
    "for i in l:\n",
    "    if type (i) == int:\n",
    "        l2.append(i)\n",
    "    \n",
    "\n"
   ]
  },
  {
   "cell_type": "code",
   "execution_count": 210,
   "id": "79587f00",
   "metadata": {},
   "outputs": [
    {
     "data": {
      "text/plain": [
       "[98659, 5688, 773, 98659, 5688, 773]"
      ]
     },
     "execution_count": 210,
     "metadata": {},
     "output_type": "execute_result"
    }
   ],
   "source": [
    "l2"
   ]
  },
  {
   "cell_type": "code",
   "execution_count": 211,
   "id": "38bfde4f",
   "metadata": {},
   "outputs": [],
   "source": [
    "d= {1:989898, \"name\":\"sudh\", \"email\":\"ineuron.com\", 234:\"bhhjhaej\",899:99888}"
   ]
  },
  {
   "cell_type": "code",
   "execution_count": 212,
   "id": "00717025",
   "metadata": {},
   "outputs": [
    {
     "data": {
      "text/plain": [
       "{1: 989898,\n",
       " 'name': 'sudh',\n",
       " 'email': 'ineuron.com',\n",
       " 234: 'bhhjhaej',\n",
       " 899: 99888}"
      ]
     },
     "execution_count": 212,
     "metadata": {},
     "output_type": "execute_result"
    }
   ],
   "source": [
    "d"
   ]
  },
  {
   "cell_type": "code",
   "execution_count": 215,
   "id": "7f7a9a9d",
   "metadata": {},
   "outputs": [
    {
     "name": "stdout",
     "output_type": "stream",
     "text": [
      "1\n",
      "234\n",
      "899\n"
     ]
    }
   ],
   "source": [
    "\n",
    "for i in d.keys():\n",
    "    if type (i) == int:\n",
    "        print (i)"
   ]
  },
  {
   "cell_type": "code",
   "execution_count": 216,
   "id": "8e53fb65",
   "metadata": {},
   "outputs": [
    {
     "name": "stdout",
     "output_type": "stream",
     "text": [
      "1 : 989898\n",
      "234 : bhhjhaej\n",
      "899 : 99888\n"
     ]
    }
   ],
   "source": [
    "for i in d.keys():\n",
    "    if type (i) == int:\n",
    "        print (i,\":\",d[i])\n",
    "    "
   ]
  },
  {
   "cell_type": "code",
   "execution_count": 223,
   "id": "f50deea0",
   "metadata": {},
   "outputs": [],
   "source": [
    "s=\"aaaabbccd\""
   ]
  },
  {
   "cell_type": "code",
   "execution_count": 225,
   "id": "faa49014",
   "metadata": {},
   "outputs": [
    {
     "data": {
      "text/plain": [
       "{'a', 'b', 'c', 'd'}"
      ]
     },
     "execution_count": 225,
     "metadata": {},
     "output_type": "execute_result"
    }
   ],
   "source": [
    "set(s)"
   ]
  },
  {
   "cell_type": "code",
   "execution_count": 228,
   "id": "baba709f",
   "metadata": {},
   "outputs": [
    {
     "data": {
      "text/plain": [
       "4"
      ]
     },
     "execution_count": 228,
     "metadata": {},
     "output_type": "execute_result"
    }
   ],
   "source": [
    "s.count(\"a\")"
   ]
  },
  {
   "cell_type": "code",
   "execution_count": 231,
   "id": "c8b3b60b",
   "metadata": {},
   "outputs": [
    {
     "name": "stdout",
     "output_type": "stream",
     "text": [
      "a : 4\n",
      "d : 1\n",
      "c : 2\n",
      "b : 2\n"
     ]
    }
   ],
   "source": [
    "for i in set (s):\n",
    "    print(i,\":\",s.count(i))"
   ]
  },
  {
   "cell_type": "code",
   "execution_count": 247,
   "id": "e11d00b5",
   "metadata": {},
   "outputs": [],
   "source": [
    "t=(\"sudh\",\"kumar\",(1,2,3,),[1,3,5,],{3:\"key\",\"z\":9899})"
   ]
  },
  {
   "cell_type": "code",
   "execution_count": 252,
   "id": "d1abeb62",
   "metadata": {},
   "outputs": [
    {
     "name": "stdout",
     "output_type": "stream",
     "text": [
      "3\n",
      "3\n",
      "{'key': 1899, 'z': 9899}\n",
      "('key', 1899)\n",
      "('z', 9899)\n"
     ]
    }
   ],
   "source": [
    "for i in t:\n",
    "    if type (i) == tuple or type (i) == list or type(i)==dict:\n",
    "        for j in i :\n",
    "            if j==3:\n",
    "                print(j)\n",
    "    if type (i) ==dict:\n",
    "        print (i)\n",
    "        for k in i.items():\n",
    "            print (k)\n",
    "                "
   ]
  },
  {
   "cell_type": "code",
   "execution_count": 253,
   "id": "4d8368d5",
   "metadata": {},
   "outputs": [],
   "source": [
    "d={4:5,\"key1\":\"sudh\",\"key2\":\"kumar\"}"
   ]
  },
  {
   "cell_type": "code",
   "execution_count": 260,
   "id": "d504da93",
   "metadata": {},
   "outputs": [
    {
     "name": "stdout",
     "output_type": "stream",
     "text": [
      "(4, 5)\n",
      "('key1', 'sudh')\n",
      "('key2', 'kumar')\n"
     ]
    }
   ],
   "source": [
    "for i in d.items():\n",
    "    print(i)"
   ]
  },
  {
   "cell_type": "code",
   "execution_count": 261,
   "id": "65a8cbe3",
   "metadata": {},
   "outputs": [
    {
     "data": {
      "text/plain": [
       "dict_items([(4, 5), ('key1', 'sudh'), ('key2', 'kumar')])"
      ]
     },
     "execution_count": 261,
     "metadata": {},
     "output_type": "execute_result"
    }
   ],
   "source": [
    "d.items()"
   ]
  },
  {
   "cell_type": "code",
   "execution_count": null,
   "id": "cb079d06",
   "metadata": {},
   "outputs": [],
   "source": []
  }
 ],
 "metadata": {
  "kernelspec": {
   "display_name": "Python 3 (ipykernel)",
   "language": "python",
   "name": "python3"
  },
  "language_info": {
   "codemirror_mode": {
    "name": "ipython",
    "version": 3
   },
   "file_extension": ".py",
   "mimetype": "text/x-python",
   "name": "python",
   "nbconvert_exporter": "python",
   "pygments_lexer": "ipython3",
   "version": "3.9.12"
  }
 },
 "nbformat": 4,
 "nbformat_minor": 5
}
